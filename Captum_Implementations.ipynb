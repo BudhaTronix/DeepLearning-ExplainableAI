{
  "nbformat": 4,
  "nbformat_minor": 0,
  "metadata": {
    "colab": {
      "name": "DeepLearning_Project.ipynb",
      "provenance": [],
      "toc_visible": true,
      "authorship_tag": "ABX9TyOOuYRrywPjT0EUJZHvXS4s",
      "include_colab_link": true
    },
    "kernelspec": {
      "name": "python3",
      "display_name": "Python 3"
    },
    "accelerator": "GPU"
  },
  "cells": [
    {
      "cell_type": "markdown",
      "metadata": {
        "id": "view-in-github",
        "colab_type": "text"
      },
      "source": [
        "<a href=\"https://colab.research.google.com/github/BudhaTronix/DeepLearning-ExplainableAI/blob/main/Captum_Implementations.ipynb\" target=\"_parent\"><img src=\"https://colab.research.google.com/assets/colab-badge.svg\" alt=\"Open In Colab\"/></a>"
      ]
    },
    {
      "cell_type": "markdown",
      "metadata": {
        "id": "ntzSgo_BE73k"
      },
      "source": [
        "# **Import and Installs**"
      ]
    },
    {
      "cell_type": "code",
      "metadata": {
        "id": "49KEcWgh1q8Y",
        "outputId": "3c120de4-7fd2-4f95-c8e8-0965465350d4",
        "colab": {
          "base_uri": "https://localhost:8080/",
          "height": 199
        }
      },
      "source": [
        "!pip install captum"
      ],
      "execution_count": null,
      "outputs": [
        {
          "output_type": "stream",
          "text": [
            "Requirement already satisfied: captum in /usr/local/lib/python3.6/dist-packages (0.2.0)\n",
            "Requirement already satisfied: torch>=1.2 in /usr/local/lib/python3.6/dist-packages (from captum) (1.6.0+cu101)\n",
            "Requirement already satisfied: numpy in /usr/local/lib/python3.6/dist-packages (from captum) (1.18.5)\n",
            "Requirement already satisfied: matplotlib in /usr/local/lib/python3.6/dist-packages (from captum) (3.2.2)\n",
            "Requirement already satisfied: future in /usr/local/lib/python3.6/dist-packages (from torch>=1.2->captum) (0.16.0)\n",
            "Requirement already satisfied: pyparsing!=2.0.4,!=2.1.2,!=2.1.6,>=2.0.1 in /usr/local/lib/python3.6/dist-packages (from matplotlib->captum) (2.4.7)\n",
            "Requirement already satisfied: cycler>=0.10 in /usr/local/lib/python3.6/dist-packages (from matplotlib->captum) (0.10.0)\n",
            "Requirement already satisfied: kiwisolver>=1.0.1 in /usr/local/lib/python3.6/dist-packages (from matplotlib->captum) (1.2.0)\n",
            "Requirement already satisfied: python-dateutil>=2.1 in /usr/local/lib/python3.6/dist-packages (from matplotlib->captum) (2.8.1)\n",
            "Requirement already satisfied: six in /usr/local/lib/python3.6/dist-packages (from cycler>=0.10->matplotlib->captum) (1.15.0)\n"
          ],
          "name": "stdout"
        }
      ]
    },
    {
      "cell_type": "code",
      "metadata": {
        "id": "xhS_F5Ea2G57",
        "outputId": "27fa328e-bcef-419d-c816-175ad28a2984",
        "colab": {
          "base_uri": "https://localhost:8080/",
          "height": 35
        }
      },
      "source": [
        "#Imports\n",
        "import matplotlib.pyplot as plt\n",
        "import torch\n",
        "import numpy as np\n",
        "import torchvision.transforms.functional as TF\n",
        "\n",
        "from PIL import Image\n",
        "from torch import nn\n",
        "from torch import optim\n",
        "from torchvision import models, datasets\n",
        "from torchvision import transforms\n",
        "\n",
        "from captum.attr import LayerDeepLift\n",
        "from captum.attr import LayerGradientXActivation\n",
        "from captum.attr import visualization as viz\n",
        "\n",
        "from captum.attr import visualization as viz\n",
        "from captum.attr import LayerGradCam, FeatureAblation, LayerActivation, LayerAttribution\n",
        "from torch.nn import functional as F\n",
        "from torch.nn import Sequential\n",
        "\n",
        "%matplotlib inline\n",
        "\n",
        "# Default device\n",
        "device = \"cuda:0\" if torch.cuda.is_available() else \"cpu\"\n",
        "\n",
        "#Print the grpahics card name\n",
        "print(torch.cuda.get_device_name(torch.cuda.current_device()))"
      ],
      "execution_count": null,
      "outputs": [
        {
          "output_type": "stream",
          "text": [
            "Tesla P100-PCIE-16GB\n"
          ],
          "name": "stdout"
        }
      ]
    },
    {
      "cell_type": "markdown",
      "metadata": {
        "id": "T7P75aZQFENE"
      },
      "source": [
        "# **Common Functions**"
      ]
    },
    {
      "cell_type": "code",
      "metadata": {
        "id": "26tfqqQ1NM3V"
      },
      "source": [
        "class Bottleneck(torch.nn.Module):\n",
        "  def __init__(self,conv1,bn1,conv2,bn2,conv3,bn3,downsample=None):\n",
        "    super(Bottleneck, self).__init__()\n",
        "    self.conv1 = conv1\n",
        "    self.bn1 = bn1\n",
        "    self.conv2 = conv2\n",
        "    self.bn2 = bn2\n",
        "    self.conv3 = conv3\n",
        "    self.bn3 = bn3\n",
        "    self.downsample = downsample\n",
        "\n",
        "  def forward(self, x):\n",
        "    identity = x\n",
        "    out = self.conv1(x)\n",
        "    out = self.bn1(out)\n",
        "    out = nn.ReLU()(out)\n",
        "    out = self.conv2(out)\n",
        "    out = self.bn2(out)\n",
        "    out = nn.ReLU()(out)\n",
        "    out = self.conv3(out)\n",
        "    out = self.bn3(out)\n",
        "\n",
        "    if self.downsample is not None:\n",
        "      identity = self.downsample(x)\n",
        "\n",
        "    out += identity\n",
        "    out = nn.ReLU()(out)\n",
        "\n",
        "    return out"
      ],
      "execution_count": null,
      "outputs": []
    },
    {
      "cell_type": "code",
      "metadata": {
        "id": "XN1RAFVYqskz"
      },
      "source": [
        " # declaring transform\n",
        "data_transform = transforms.Compose([\n",
        "        transforms.Resize(256),                            \n",
        "        transforms.CenterCrop(224),\n",
        "        transforms.ToTensor(),\n",
        "        transforms.Normalize(mean = [0.485, 0.456, 0.406],\n",
        "                            std = [0.229, 0.224, 0.225])\n",
        "])"
      ],
      "execution_count": null,
      "outputs": []
    },
    {
      "cell_type": "code",
      "metadata": {
        "id": "DGyLBsIX2DOU"
      },
      "source": [
        "resModel = models.segmentation.fcn_resnet101(pretrained=True).to(device).eval()"
      ],
      "execution_count": null,
      "outputs": []
    },
    {
      "cell_type": "code",
      "metadata": {
        "id": "pzH2c8xX15cN"
      },
      "source": [
        "layer1 = resModel.backbone.layer1\n",
        "layer2 = resModel.backbone.layer2\n",
        "layer3 = resModel.backbone.layer3\n",
        "layer4 = resModel.backbone.layer4"
      ],
      "execution_count": null,
      "outputs": []
    },
    {
      "cell_type": "code",
      "metadata": {
        "id": "JxQL2UjENV3h"
      },
      "source": [
        "class Net(torch.nn.Module):\n",
        "    def __init__(self):\n",
        "        super(Net, self).__init__()\n",
        "        self.conv1 = resModel.backbone.conv1\n",
        "        self.bn1 = resModel.backbone.bn1\n",
        "        self.relu1 = nn.ReLU(inplace=False)\n",
        "        self.maxpool1 = resModel.backbone.maxpool\n",
        "        self.layer1 = Sequential(Bottleneck(layer1[0].conv1,layer1[0].bn1,layer1[0].conv2,layer1[0].bn2,layer1[0].conv3,layer1[0].bn3,layer1[0].downsample),\n",
        "                                 Bottleneck(layer1[1].conv1,layer1[1].bn1,layer1[1].conv2,layer1[1].bn2,layer1[1].conv3,layer1[1].bn3),\n",
        "                                 Bottleneck(layer1[2].conv1,layer1[2].bn1,layer1[2].conv2,layer1[2].bn2,layer1[2].conv3,layer1[2].bn3))\n",
        "        \n",
        "\n",
        "        self.layer2 = Sequential(Bottleneck(layer2[0].conv1,layer2[0].bn1,layer2[0].conv2,layer2[0].bn2,layer2[0].conv3,layer2[0].bn3,layer2[0].downsample),\n",
        "                                 Bottleneck(layer2[1].conv1,layer2[1].bn1,layer2[1].conv2,layer2[1].bn2,layer2[1].conv3,layer2[1].bn3),\n",
        "                                 Bottleneck(layer2[2].conv1,layer2[2].bn1,layer2[2].conv2,layer2[2].bn2,layer2[2].conv3,layer2[2].bn3),\n",
        "                                 Bottleneck(layer2[3].conv1,layer2[3].bn1,layer2[3].conv2,layer2[3].bn2,layer2[3].conv3,layer2[3].bn3))\n",
        "        \n",
        "\n",
        "        self.layer3 = Sequential(Bottleneck(layer3[0].conv1,layer3[0].bn1,layer3[0].conv2,layer3[0].bn2,layer3[0].conv3,layer3[0].bn3,layer3[0].downsample),\n",
        "                                 Bottleneck(layer3[1].conv1,layer3[1].bn1,layer3[1].conv2,layer3[1].bn2,layer3[1].conv3,layer3[1].bn3),\n",
        "                                 Bottleneck(layer3[2].conv1,layer3[2].bn1,layer3[2].conv2,layer3[2].bn2,layer3[2].conv3,layer3[2].bn3),\n",
        "                                 Bottleneck(layer3[3].conv1,layer3[3].bn1,layer3[3].conv2,layer3[3].bn2,layer3[3].conv3,layer3[3].bn3),\n",
        "                                 Bottleneck(layer3[4].conv1,layer3[4].bn1,layer3[4].conv2,layer3[4].bn2,layer3[4].conv3,layer3[4].bn3),\n",
        "                                 Bottleneck(layer3[5].conv1,layer3[5].bn1,layer3[5].conv2,layer3[5].bn2,layer3[5].conv3,layer3[5].bn3),\n",
        "                                 Bottleneck(layer3[6].conv1,layer3[6].bn1,layer3[6].conv2,layer3[6].bn2,layer3[6].conv3,layer3[6].bn3),\n",
        "                                 Bottleneck(layer3[7].conv1,layer3[7].bn1,layer3[7].conv2,layer3[7].bn2,layer3[7].conv3,layer3[7].bn3),\n",
        "                                 Bottleneck(layer3[8].conv1,layer3[8].bn1,layer3[8].conv2,layer3[8].bn2,layer3[8].conv3,layer3[8].bn3),\n",
        "                                 Bottleneck(layer3[9].conv1,layer3[9].bn1,layer3[9].conv2,layer3[9].bn2,layer3[9].conv3,layer3[9].bn3),\n",
        "                                 Bottleneck(layer3[10].conv1,layer3[10].bn1,layer3[10].conv2,layer3[10].bn2,layer3[10].conv3,layer3[10].bn3),\n",
        "                                 Bottleneck(layer3[11].conv1,layer3[11].bn1,layer3[11].conv2,layer3[11].bn2,layer3[11].conv3,layer3[11].bn3),\n",
        "                                 Bottleneck(layer3[12].conv1,layer3[12].bn1,layer3[12].conv2,layer3[12].bn2,layer3[12].conv3,layer3[12].bn3),\n",
        "                                 Bottleneck(layer3[13].conv1,layer3[13].bn1,layer3[13].conv2,layer3[13].bn2,layer3[13].conv3,layer3[13].bn3),\n",
        "                                 Bottleneck(layer3[14].conv1,layer3[14].bn1,layer3[14].conv2,layer3[14].bn2,layer3[14].conv3,layer3[14].bn3),\n",
        "                                 Bottleneck(layer3[15].conv1,layer3[15].bn1,layer3[15].conv2,layer3[15].bn2,layer3[15].conv3,layer3[15].bn3),\n",
        "                                 Bottleneck(layer3[16].conv1,layer3[16].bn1,layer3[16].conv2,layer3[16].bn2,layer3[16].conv3,layer3[16].bn3),\n",
        "                                 Bottleneck(layer3[17].conv1,layer3[17].bn1,layer3[17].conv2,layer3[17].bn2,layer3[17].conv3,layer3[17].bn3),\n",
        "                                 Bottleneck(layer3[18].conv1,layer3[18].bn1,layer3[18].conv2,layer3[18].bn2,layer3[18].conv3,layer3[18].bn3),\n",
        "                                 Bottleneck(layer3[19].conv1,layer3[19].bn1,layer3[19].conv2,layer3[19].bn2,layer3[19].conv3,layer3[19].bn3),\n",
        "                                 Bottleneck(layer3[20].conv1,layer3[20].bn1,layer3[20].conv2,layer3[20].bn2,layer3[20].conv3,layer3[20].bn3),\n",
        "                                 Bottleneck(layer3[21].conv1,layer3[21].bn1,layer3[21].conv2,layer3[21].bn2,layer3[21].conv3,layer3[21].bn3),\n",
        "                                 Bottleneck(layer3[22].conv1,layer3[22].bn1,layer3[22].conv2,layer3[22].bn2,layer3[22].conv3,layer3[22].bn3))                        \n",
        "        \n",
        "\n",
        "\n",
        "        self.layer4 = Sequential(Bottleneck(layer4[0].conv1,layer4[0].bn1,layer4[0].conv2,layer4[0].bn2,layer4[0].conv3,layer4[0].bn3,layer4[0].downsample),\n",
        "                                 Bottleneck(layer4[1].conv1,layer4[1].bn1,layer4[1].conv2,layer4[1].bn2,layer4[1].conv3,layer4[1].bn3),\n",
        "                                 Bottleneck(layer4[2].conv1,layer4[2].bn1,layer4[2].conv2,layer4[2].bn2,layer4[2].conv3,layer4[2].bn3))\n",
        "        \n",
        "        self.layer5 = resModel.classifier\n",
        "        #self.layer6 = resModel.aux_classifier\n",
        "\n",
        "    def forward(self, x):\n",
        "        input_shape = x.shape[-2:]\n",
        "        x = self.conv1(x)\n",
        "        x = self.bn1(x)\n",
        "        x = self.relu1(x)\n",
        "        x = self.maxpool1(x)\n",
        "        x = self.layer1(x)\n",
        "        x = self.layer2(x)\n",
        "        x = self.layer3(x)\n",
        "        x = self.layer4(x)\n",
        "        x = self.layer5(x)\n",
        "        x = F.interpolate(x, size=input_shape, mode='bilinear', align_corners=False)\n",
        "        op_max = torch.argmax(x,dim=1, keepdim=True)\n",
        "        selected_inds = torch.zeros_like(x[0:]).scatter_(1, op_max, 1)\n",
        "        return (x * selected_inds).sum(dim=(2,3))\n",
        "\n",
        "        #return self.layer6(x)  \n",
        "        #return x"
      ],
      "execution_count": null,
      "outputs": []
    },
    {
      "cell_type": "code",
      "metadata": {
        "id": "8B5Lc3GU2lu7"
      },
      "source": [
        "# This method allows us to visualize a particular segmentation output, by setting\n",
        "# each pixels color according to the given segmentation class provided in the \n",
        "# image (segmentation output).\n",
        "def decode_segmap(image, nc=21):  \n",
        "  label_colors = np.array([(0, 0, 0),  # 0=background\n",
        "               # 1=aeroplane, 2=bicycle, 3=bird, 4=boat, 5=bottle\n",
        "               (128, 0, 0), (0, 128, 0), (128, 128, 0), (0, 0, 128), (128, 0, 128),\n",
        "               # 6=bus, 7=car, 8=cat, 9=chair, 10=cow\n",
        "               (0, 128, 128), (128, 128, 128), (64, 0, 0), (192, 0, 0), (64, 128, 0),\n",
        "               # 11=dining table, 12=dog, 13=horse, 14=motorbike, 15=person\n",
        "               (192, 128, 0), (64, 0, 128), (192, 0, 128), (64, 128, 128), (192, 128, 128),\n",
        "               # 16=potted plant, 17=sheep, 18=sofa, 19=train, 20=tv/monitor\n",
        "               (0, 64, 0), (128, 64, 0), (0, 192, 0), (128, 192, 0), (0, 64, 128)])\n",
        "\n",
        "  r = np.zeros_like(image).astype(np.uint8)\n",
        "  g = np.zeros_like(image).astype(np.uint8)\n",
        "  b = np.zeros_like(image).astype(np.uint8)\n",
        "  \n",
        "  for l in range(0, nc):\n",
        "    idx = image == l\n",
        "    r[idx] = label_colors[l, 0]\n",
        "    g[idx] = label_colors[l, 1]\n",
        "    b[idx] = label_colors[l, 2]\n",
        "    \n",
        "  rgb = np.stack([r, g, b], axis=2)\n",
        "  return rgb"
      ],
      "execution_count": null,
      "outputs": []
    },
    {
      "cell_type": "code",
      "metadata": {
        "id": "0_ceG9pW34Do"
      },
      "source": [
        "def wrapper(inp):\n",
        "  model_out = resModel(inp)['out']\n",
        "  # Creates binary matrix with 1 for argmax class for each pixel\n",
        "  # and 0 otherwise.\n",
        "  selected_inds = torch.zeros_like(model_out[0:1]).scatter_(1, out_max, 1)\n",
        "  return (model_out * selected_inds).sum(dim=(2,3))\n",
        "\n",
        "\n",
        "# Alternate wrapper, simply summing each output channel\n",
        "# def wrapper(inp):\n",
        "#   return fcn(inp)['out'].sum(dim=(2,3))"
      ],
      "execution_count": null,
      "outputs": []
    },
    {
      "cell_type": "code",
      "metadata": {
        "id": "9ZKFodtmgZ0W"
      },
      "source": [
        "copyNet = Net()\n",
        "_ = copyNet.to(device).eval() "
      ],
      "execution_count": null,
      "outputs": []
    },
    {
      "cell_type": "code",
      "metadata": {
        "id": "CdwhZVSEnW74"
      },
      "source": [
        "# Input preprocessing transformation\n",
        "preprocessing = transforms.Compose([transforms.Resize(300), \n",
        "                                    transforms.ToTensor()])\n",
        "normalize = transforms.Normalize(mean = [0.485, 0.456, 0.406], std = [0.229, 0.224, 0.225])\n",
        "\n",
        "!wget -nv https://farm8.staticflickr.com/7301/8862358875_eecba9fb10_z.jpg -O city.png\n",
        "\n",
        "img = Image.open(\"city.png\")\n",
        "preproc_img = preprocessing(img)\n",
        "plt.imshow(preproc_img.permute(1,2,0)); plt.axis('off'); plt.show()\n",
        "\n",
        "op = resModel(torch.unsqueeze(preproc_img.to(device), 0))['out']\n",
        "print(op[:,0,:,:])\n",
        "\n",
        "# Normalize image and compute segmentation output\n",
        "normalized_inp = normalize(preproc_img).unsqueeze(0).to(device)\n",
        "out = resModel(normalized_inp)['out']\n",
        "\n",
        "# Find most likely segmentation class for each pixel.\n",
        "out_max = torch.argmax(out, dim=1, keepdim=True)\n",
        "\n",
        "# Visualize segmentation output using utility method.\n",
        "rgb = decode_segmap(out_max.detach().cpu().squeeze().numpy())\n",
        "plt.imshow(rgb); plt.axis('off'); plt.show()"
      ],
      "execution_count": null,
      "outputs": []
    },
    {
      "cell_type": "markdown",
      "metadata": {
        "id": "TWakw7q54iCW"
      },
      "source": [
        "# **Functions** "
      ]
    },
    {
      "cell_type": "code",
      "metadata": {
        "id": "SVCZbX4_82xp"
      },
      "source": [
        "def captum_LayerGradientXActivation(forward_func, selected_layer, inp_image, target, signs, methods):\n",
        "  lgc = LayerGradientXActivation(forward_func, selected_layer)\n",
        "\n",
        "  gc_attr = lgc.attribute(inp_image, target)\n",
        "\n",
        "  la = LayerActivation(forward_func, selected_layer)\n",
        "  activation = la.attribute(inp_image)\n",
        "\n",
        "\n",
        "  viz.visualize_image_attr(gc_attr[0].cpu().permute(1,2,0).detach().numpy(),method=methods,sign=signs,show_colorbar=True, title=\"Captum Layer Gradient X Activation\")"
      ],
      "execution_count": null,
      "outputs": []
    },
    {
      "cell_type": "code",
      "metadata": {
        "id": "Kv42ZUTV4CPl"
      },
      "source": [
        "def captum_LayerGradCam(forward_func, selected_layer, inp_image, target, signs, methods):\n",
        "  lgc = LayerGradCam(forward_func, selected_layer)\n",
        "  gc_attr = lgc.attribute(inp_image, target)\n",
        "\n",
        "  la = LayerActivation(forward_func, selected_layer)\n",
        "  activation = la.attribute(inp_image)\n",
        "\n",
        "  viz.visualize_image_attr(gc_attr[0].cpu().permute(1,2,0).detach().numpy(),method=methods,sign=signs,\n",
        "                                                show_colorbar=True, title=\"Captum Layer GradCam\")"
      ],
      "execution_count": null,
      "outputs": []
    },
    {
      "cell_type": "code",
      "metadata": {
        "id": "uhbT7TptNpcT"
      },
      "source": [
        "def captum_LayerDeepLift(forward_func, inp_image, selected_target, signs, methods):\n",
        " # _ = forward_func.to(device).eval() \n",
        "  LdLift = LayerDeepLift(forward_func,forward_func.layer4[2].conv3)\n",
        "  # Deep lift for person class\n",
        "  LdLift_attribution = LdLift.attribute(inp_image, target=selected_target)\n",
        "\n",
        "  grads = np.transpose(LdLift_attribution.squeeze().cpu().detach().numpy(), (1, 2, 0))\n",
        "  original_image = np.transpose(inp_image.squeeze().cpu().detach().numpy(), (1, 2, 0))\n",
        "\n",
        "\n",
        "  _ = viz.visualize_image_attr(grads, original_image, method=methods, sign=signs,\n",
        "                              show_colorbar=True, title=\"Captum Layer Deep Lift \")"
      ],
      "execution_count": null,
      "outputs": []
    },
    {
      "cell_type": "markdown",
      "metadata": {
        "id": "31VQJI2V-n_s"
      },
      "source": [
        "# **Function Calls**"
      ]
    },
    {
      "cell_type": "code",
      "metadata": {
        "id": "SXciC_SvENrA",
        "outputId": "cc290afb-6ac9-4e2c-8e12-ed27aba67aae",
        "colab": {
          "base_uri": "https://localhost:8080/",
          "height": 415
        }
      },
      "source": [
        "#Layer Gradient X Activation\n",
        "forward_func = wrapper\n",
        "target = 15\n",
        "sign = \"all\" #[\"all\", \"positive\", \"negative\"]\n",
        "method = \"heat_map\" #[\"original_image\", \"blended_heat_map\",\"blended_heat_map\"]\n",
        "image = normalized_inp\n",
        "selected_layer = resModel.backbone.layer4[2].conv3\n",
        "\n",
        "#Function Call: \n",
        "captum_LayerGradientXActivation(forward_func, selected_layer, image, target, sign, method)"
      ],
      "execution_count": null,
      "outputs": [
        {
          "output_type": "stream",
          "text": [
            "/usr/local/lib/python3.6/dist-packages/captum/attr/_utils/gradient.py:33: UserWarning: Input Tensor 0 did not already require gradients, required_grads has been set automatically.\n",
            "  \"required_grads has been set automatically.\" % index\n"
          ],
          "name": "stderr"
        },
        {
          "output_type": "stream",
          "text": [
            "Input Shape: torch.Size([1, 3, 300, 452])\n",
            "Layer Activation Shape: torch.Size([1, 2048, 38, 57])\n",
            "Layer GradientX Shape: torch.Size([1, 2048, 38, 57])\n"
          ],
          "name": "stdout"
        },
        {
          "output_type": "display_data",
          "data": {
            "image/png": "[encoded data removed]",
            "text/plain": [
              "<Figure size 432x432 with 2 Axes>"
            ]
          },
          "metadata": {
            "tags": [],
            "needs_background": "light"
          }
        }
      ]
    },
    {
      "cell_type": "code",
      "metadata": {
        "id": "ggRIPPxwnCiZ",
        "outputId": "bc9969d8-c3d3-44a0-adbc-bad8e7c2411f",
        "colab": {
          "base_uri": "https://localhost:8080/",
          "height": 341
        }
      },
      "source": [
        "#Layer Gradcam\n",
        "forward_func = wrapper\n",
        "target = 15\n",
        "sign = \"all\" #[\"all\", \"positive\", \"negative\"]\n",
        "method = \"heat_map\" #[\"original_image\", \"blended_heat_map\",\"blended_heat_map\"]\n",
        "image = normalized_inp\n",
        "selected_layer = resModel.backbone.layer4[2].conv3\n",
        "\n",
        "#Function Call: \n",
        "captum_LayerGradCam(forward_func, selected_layer, image, target, sign, method)"
      ],
      "execution_count": null,
      "outputs": [
        {
          "output_type": "stream",
          "text": [
            "/usr/local/lib/python3.6/dist-packages/captum/attr/_utils/gradient.py:33: UserWarning: Input Tensor 0 did not already require gradients, required_grads has been set automatically.\n",
            "  \"required_grads has been set automatically.\" % index\n"
          ],
          "name": "stderr"
        },
        {
          "output_type": "display_data",
          "data": {
            "image/png": "[encoded data removed]",
            "text/plain": [
              "<Figure size 432x432 with 2 Axes>"
            ]
          },
          "metadata": {
            "tags": [],
            "needs_background": "light"
          }
        }
      ]
    },
    {
      "cell_type": "code",
      "metadata": {
        "id": "9GHNmjcxO7zd",
        "outputId": "4176324b-d080-417f-ebf2-b621591956f8",
        "colab": {
          "base_uri": "https://localhost:8080/",
          "height": 341
        }
      },
      "source": [
        "#Layer Deep Lift\n",
        "\n",
        "image = normalized_inp\n",
        "forward_func = Net()\n",
        "_ = forward_func.to(device).eval() \n",
        "target = 15\n",
        "sign = \"all\" #[\"all\", \"positive\", \"negative\"]\n",
        "method = \"heat_map\" #[\"original_image\", \"blended_heat_map\",\"blended_heat_map\"]\n",
        "\n",
        "#Function Call: \n",
        "captum_LayerDeepLift(forward_func, image, target, sign, method)"
      ],
      "execution_count": null,
      "outputs": [
        {
          "output_type": "stream",
          "text": [
            "/usr/local/lib/python3.6/dist-packages/captum/attr/_utils/gradient.py:33: UserWarning: Input Tensor 0 did not already require gradients, required_grads has been set automatically.\n",
            "  \"required_grads has been set automatically.\" % index\n"
          ],
          "name": "stderr"
        },
        {
          "output_type": "display_data",
          "data": {
            "image/png": "[encoded data removed]",
            "text/plain": [
              "<Figure size 432x432 with 2 Axes>"
            ]
          },
          "metadata": {
            "tags": [],
            "needs_background": "light"
          }
        }
      ]
    },
    {
      "cell_type": "markdown",
      "metadata": {
        "id": "5j63qy3VEvif"
      },
      "source": [
        "# **XML**"
      ]
    },
    {
      "cell_type": "code",
      "metadata": {
        "id": "cp5uLquGETr7"
      },
      "source": [
        "{ \n",
        "  \"model_nature\" : \"Segmentation\",\n",
        "  \"model_name\" : \"FCN_Resnet101\",\n",
        "  \"dataset\" : \"coco\",\n",
        "  \"test_run\" : \"test1\",\n",
        "  \"resize\" : 120,\n",
        "  \"centre_crop\" : 120,\n",
        "  \"mean_vec\" : [0.485, 0.456, 0.406],\n",
        "  \"std_vec\" :  [0.229, 0.224, 0.225],\n",
        "  \"methods\" : [   \n",
        "                     { \"method_name\" : \"captum_LayerGradientXActivation\",  \n",
        "                       \"library\" : \"captum\",\n",
        "                       \"inpt_transform_req\" : True,\n",
        "                       \"target\" : [15],\n",
        "                       \"aux_func_flag\" : True,\n",
        "                       \"visualize_method\" : \"heat_map\",\n",
        "                       \"sign\": \"all\",\n",
        "                       \"show_colorbar\": True,\n",
        "                       \"title\" : \"LayerGradientXActivation\",\n",
        "                       \"device_id\" : \"cuda:0\",\n",
        "                       \"keywords\": {\"cnn layer\": layer4[2].conv3}\n",
        "                     }]}"
      ],
      "execution_count": null,
      "outputs": []
    },
    {
      "cell_type": "code",
      "metadata": {
        "id": "tDM_98Vh-kSn"
      },
      "source": [
        "{ \n",
        "  \"model_nature\" : \"Segmentation\",\n",
        "  \"model_name\" : \"FCN_Resnet101\",\n",
        "  \"dataset\" : \"coco\",\n",
        "  \"test_run\" : \"test1\",\n",
        "  \"resize\" : 120,\n",
        "  \"centre_crop\" : 120,\n",
        "  \"mean_vec\" : [0.485, 0.456, 0.406],\n",
        "  \"std_vec\" :  [0.229, 0.224, 0.225],\n",
        "  \"methods\" : [   \n",
        "                     { \"method_name\" : \"captum_LayerGradCam\",  \n",
        "                       \"library\" : \"captum\",\n",
        "                       \"inpt_transform_req\" : True,\n",
        "                       \"target\" : [15],\n",
        "                       \"aux_func_flag\" : True,\n",
        "                       \"visualize_method\" : \"heat_map\",\n",
        "                       \"sign\": \"all\",\n",
        "                       \"show_colorbar\": True,\n",
        "                       \"title\" : \"LayerGradCam\",\n",
        "                       \"device_id\" : \"cuda:0\",\n",
        "                       \"keywords\": {\"cnn layer\": layer4[2].conv3}\n",
        "                     }]}"
      ],
      "execution_count": null,
      "outputs": []
    },
    {
      "cell_type": "code",
      "metadata": {
        "id": "lFbyggB1BcQp"
      },
      "source": [
        "{ \n",
        "  \"model_nature\" : \"Segmentation\",\n",
        "  \"model_name\" : \"FCN_Resnet101\",\n",
        "  \"dataset\" : \"coco\",\n",
        "  \"test_run\" : \"test1\",\n",
        "  \"resize\" : 120,\n",
        "  \"centre_crop\" : 120,\n",
        "  \"mean_vec\" : [0.485, 0.456, 0.406],\n",
        "  \"std_vec\" :  [0.229, 0.224, 0.225],\n",
        "  \"methods\" : [   \n",
        "                     { \"method_name\" : \"captum_LayerDeepLift\",  \n",
        "                       \"library\" : \"captum\",\n",
        "                       \"inpt_transform_req\" : True,\n",
        "                       \"target\" : [15],\n",
        "                       \"aux_func_flag\" : True,\n",
        "                       \"visualize_method\" : \"heat_map\",\n",
        "                       \"sign\": \"all\",\n",
        "                       \"show_colorbar\": True,\n",
        "                       \"title\" : \"LayerDeepLift\",\n",
        "                       \"device_id\" : \"cuda:0\",\n",
        "                     }]}"
      ],
      "execution_count": null,
      "outputs": []
    }
  ]
}